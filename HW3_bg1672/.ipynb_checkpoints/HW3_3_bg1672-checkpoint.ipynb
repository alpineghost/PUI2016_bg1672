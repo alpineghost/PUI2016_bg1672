{
 "cells": [
  {
   "cell_type": "markdown",
   "metadata": {},
   "source": [
    "Question: Is the new Bus Route improving commute?\n",
    "\n",
    "H0= the commute time is on average the same or longer with the new bus route as it was before: Tnew >= Told\n",
    "\n",
    "Ha: the commute time is shorter with the new bus route as it was before: Tnew < Told\n",
    "\n",
    "Told ~ N(mu= 36, sigma = 6)\n",
    "alpha = 0.05\n",
    "\n",
    "Z statistic = (chi_bar - mu) / (sigma/(squareroot(n)\n",
    "\n",
    "(Formula for Z statistic taken from **Statistics in a Nutshell**)"
   ]
  },
  {
   "cell_type": "code",
   "execution_count": 1,
   "metadata": {
    "collapsed": true
   },
   "outputs": [],
   "source": [
    "from __future__ import print_function\n",
    "import pandas as pd"
   ]
  },
  {
   "cell_type": "code",
   "execution_count": 2,
   "metadata": {
    "collapsed": false
   },
   "outputs": [
    {
     "name": "stdout",
     "output_type": "stream",
     "text": [
      "  % Total    % Received % Xferd  Average Speed   Time    Time     Time  Current\n",
      "                                 Dload  Upload   Total   Spent    Left  Speed\n",
      "107  1179  107  1179    0     0   6966      0 --:--:-- --:--:-- --:--:-- 30230\n"
     ]
    }
   ],
   "source": [
    "!curl -O https://raw.githubusercontent.com/fedhere/PUI2016_fb55/master/Lab3_fb55/times.txt"
   ]
  },
  {
   "cell_type": "code",
   "execution_count": 14,
   "metadata": {
    "collapsed": false
   },
   "outputs": [],
   "source": [
    "travel_times = pd.read_csv('times.txt', header=None)"
   ]
  },
  {
   "cell_type": "code",
   "execution_count": 22,
   "metadata": {
    "collapsed": false
   },
   "outputs": [],
   "source": [
    "chi_bar = travel_times[0].mean()\n",
    "mu = 36\n",
    "sigma = 6\n",
    "n = 100"
   ]
  },
  {
   "cell_type": "code",
   "execution_count": 34,
   "metadata": {
    "collapsed": false
   },
   "outputs": [],
   "source": [
    "z_num = chi_bar - mu\n",
    "z_den = sigma / (n**(0.5))"
   ]
  },
  {
   "cell_type": "code",
   "execution_count": 36,
   "metadata": {
    "collapsed": false
   },
   "outputs": [
    {
     "data": {
      "text/plain": [
       "-2.5563971861666701"
      ]
     },
     "execution_count": 36,
     "metadata": {},
     "output_type": "execute_result"
    }
   ],
   "source": [
    "z_num / z_den"
   ]
  },
  {
   "cell_type": "markdown",
   "metadata": {},
   "source": [
    "Using the online p value calculator, http://graphpad.com/quickcalcs/PValue1.cfm, the p value was calculated to be 0.0108, which is below our p value of 0.05.  \n",
    "\n",
    "Therefore, we can reject the null hypothesis that the mean travel time for the new bus line is longer or the same as the old bus travel time.  "
   ]
  }
 ],
 "metadata": {
  "kernelspec": {
   "display_name": "PUI2016_Python2",
   "language": "python",
   "name": "pui2016_python2"
  },
  "language_info": {
   "codemirror_mode": {
    "name": "ipython",
    "version": 2
   },
   "file_extension": ".py",
   "mimetype": "text/x-python",
   "name": "python",
   "nbconvert_exporter": "python",
   "pygments_lexer": "ipython2",
   "version": "2.7.12"
  }
 },
 "nbformat": 4,
 "nbformat_minor": 0
}
