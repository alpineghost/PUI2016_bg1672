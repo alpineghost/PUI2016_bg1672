{
 "cells": [
  {
   "cell_type": "markdown",
   "metadata": {},
   "source": [
    "## Idea: More men use citibikes than women, but is ratio of male to female riders different based on the time of day?\n",
    "\n",
    "**Alternative hypothese**: The ratio of female to male riders in the evening (4 to 7 pm) (P1) is greater than the ratio of female to male riders in the morning (7 to 10 am) (P0).\n",
    "Ha = P1 > P0\n",
    "\n",
    "**NULL hypothesis**: The ratio of female to male riders in the evening (4 to 7 pm) is less than or equal to the ratio of female to male riders in the morning (7 to 10 am). p = 0.05\n",
    "Ho = P1 < = P0\n",
    "\n"
   ]
  },
  {
   "cell_type": "code",
   "execution_count": 19,
   "metadata": {
    "collapsed": false
   },
   "outputs": [
    {
     "name": "stdout",
     "output_type": "stream",
     "text": [
      "Populating the interactive namespace from numpy and matplotlib\n"
     ]
    }
   ],
   "source": [
    "from __future__ import print_function\n",
    "import os\n",
    "import numpy as np\n",
    "import pandas as pd\n",
    "import zipfile\n",
    "import pylab as pl\n",
    "%pylab inline\n",
    "\n",
    "import csv\n",
    "import requests\n"
   ]
  },
  {
   "cell_type": "code",
   "execution_count": 3,
   "metadata": {
    "collapsed": false
   },
   "outputs": [
    {
     "name": "stdout",
     "output_type": "stream",
     "text": [
      "  % Total    % Received % Xferd  Average Speed   Time    Time     Time  Current\n",
      "                                 Dload  Upload   Total   Spent    Left  Speed\n",
      "100 4708k  100 4708k    0     0  11.1M      0 --:--:-- --:--:-- --:--:-- 18.6M\n"
     ]
    },
    {
     "data": {
      "text/html": [
       "<div>\n",
       "<table border=\"1\" class=\"dataframe\">\n",
       "  <thead>\n",
       "    <tr style=\"text-align: right;\">\n",
       "      <th></th>\n",
       "      <th>tripduration</th>\n",
       "      <th>starttime</th>\n",
       "      <th>stoptime</th>\n",
       "      <th>start station id</th>\n",
       "      <th>start station name</th>\n",
       "      <th>start station latitude</th>\n",
       "      <th>start station longitude</th>\n",
       "      <th>end station id</th>\n",
       "      <th>end station name</th>\n",
       "      <th>end station latitude</th>\n",
       "      <th>end station longitude</th>\n",
       "      <th>bikeid</th>\n",
       "      <th>usertype</th>\n",
       "      <th>birth year</th>\n",
       "      <th>gender</th>\n",
       "    </tr>\n",
       "  </thead>\n",
       "  <tbody>\n",
       "    <tr>\n",
       "      <th>0</th>\n",
       "      <td>801</td>\n",
       "      <td>2/1/2015 0:00</td>\n",
       "      <td>2/1/2015 0:14</td>\n",
       "      <td>521</td>\n",
       "      <td>8 Ave &amp; W 31 St</td>\n",
       "      <td>40.750450</td>\n",
       "      <td>-73.994811</td>\n",
       "      <td>423</td>\n",
       "      <td>W 54 St &amp; 9 Ave</td>\n",
       "      <td>40.765849</td>\n",
       "      <td>-73.986905</td>\n",
       "      <td>17131</td>\n",
       "      <td>Subscriber</td>\n",
       "      <td>1978.0</td>\n",
       "      <td>2</td>\n",
       "    </tr>\n",
       "    <tr>\n",
       "      <th>1</th>\n",
       "      <td>379</td>\n",
       "      <td>2/1/2015 0:00</td>\n",
       "      <td>2/1/2015 0:07</td>\n",
       "      <td>497</td>\n",
       "      <td>E 17 St &amp; Broadway</td>\n",
       "      <td>40.737050</td>\n",
       "      <td>-73.990093</td>\n",
       "      <td>504</td>\n",
       "      <td>1 Ave &amp; E 15 St</td>\n",
       "      <td>40.732219</td>\n",
       "      <td>-73.981656</td>\n",
       "      <td>21289</td>\n",
       "      <td>Subscriber</td>\n",
       "      <td>1993.0</td>\n",
       "      <td>1</td>\n",
       "    </tr>\n",
       "    <tr>\n",
       "      <th>2</th>\n",
       "      <td>2474</td>\n",
       "      <td>2/1/2015 0:01</td>\n",
       "      <td>2/1/2015 0:42</td>\n",
       "      <td>281</td>\n",
       "      <td>Grand Army Plaza &amp; Central Park S</td>\n",
       "      <td>40.764397</td>\n",
       "      <td>-73.973715</td>\n",
       "      <td>127</td>\n",
       "      <td>Barrow St &amp; Hudson St</td>\n",
       "      <td>40.731724</td>\n",
       "      <td>-74.006744</td>\n",
       "      <td>18903</td>\n",
       "      <td>Subscriber</td>\n",
       "      <td>1969.0</td>\n",
       "      <td>2</td>\n",
       "    </tr>\n",
       "    <tr>\n",
       "      <th>3</th>\n",
       "      <td>818</td>\n",
       "      <td>2/1/2015 0:01</td>\n",
       "      <td>2/1/2015 0:15</td>\n",
       "      <td>2004</td>\n",
       "      <td>6 Ave &amp; Broome St</td>\n",
       "      <td>40.724399</td>\n",
       "      <td>-74.004704</td>\n",
       "      <td>505</td>\n",
       "      <td>6 Ave &amp; W 33 St</td>\n",
       "      <td>40.749013</td>\n",
       "      <td>-73.988484</td>\n",
       "      <td>21044</td>\n",
       "      <td>Subscriber</td>\n",
       "      <td>1985.0</td>\n",
       "      <td>2</td>\n",
       "    </tr>\n",
       "    <tr>\n",
       "      <th>4</th>\n",
       "      <td>544</td>\n",
       "      <td>2/1/2015 0:01</td>\n",
       "      <td>2/1/2015 0:10</td>\n",
       "      <td>323</td>\n",
       "      <td>Lawrence St &amp; Willoughby St</td>\n",
       "      <td>40.692362</td>\n",
       "      <td>-73.986317</td>\n",
       "      <td>83</td>\n",
       "      <td>Atlantic Ave &amp; Fort Greene Pl</td>\n",
       "      <td>40.683826</td>\n",
       "      <td>-73.976323</td>\n",
       "      <td>19868</td>\n",
       "      <td>Subscriber</td>\n",
       "      <td>1957.0</td>\n",
       "      <td>1</td>\n",
       "    </tr>\n",
       "  </tbody>\n",
       "</table>\n",
       "</div>"
      ],
      "text/plain": [
       "   tripduration      starttime       stoptime  start station id  \\\n",
       "0           801  2/1/2015 0:00  2/1/2015 0:14               521   \n",
       "1           379  2/1/2015 0:00  2/1/2015 0:07               497   \n",
       "2          2474  2/1/2015 0:01  2/1/2015 0:42               281   \n",
       "3           818  2/1/2015 0:01  2/1/2015 0:15              2004   \n",
       "4           544  2/1/2015 0:01  2/1/2015 0:10               323   \n",
       "\n",
       "                  start station name  start station latitude  \\\n",
       "0                    8 Ave & W 31 St               40.750450   \n",
       "1                 E 17 St & Broadway               40.737050   \n",
       "2  Grand Army Plaza & Central Park S               40.764397   \n",
       "3                  6 Ave & Broome St               40.724399   \n",
       "4        Lawrence St & Willoughby St               40.692362   \n",
       "\n",
       "   start station longitude  end station id               end station name  \\\n",
       "0               -73.994811             423                W 54 St & 9 Ave   \n",
       "1               -73.990093             504                1 Ave & E 15 St   \n",
       "2               -73.973715             127          Barrow St & Hudson St   \n",
       "3               -74.004704             505                6 Ave & W 33 St   \n",
       "4               -73.986317              83  Atlantic Ave & Fort Greene Pl   \n",
       "\n",
       "   end station latitude  end station longitude  bikeid    usertype  \\\n",
       "0             40.765849             -73.986905   17131  Subscriber   \n",
       "1             40.732219             -73.981656   21289  Subscriber   \n",
       "2             40.731724             -74.006744   18903  Subscriber   \n",
       "3             40.749013             -73.988484   21044  Subscriber   \n",
       "4             40.683826             -73.976323   19868  Subscriber   \n",
       "\n",
       "   birth year  gender  \n",
       "0      1978.0       2  \n",
       "1      1993.0       1  \n",
       "2      1969.0       2  \n",
       "3      1985.0       2  \n",
       "4      1957.0       1  "
      ]
     },
     "execution_count": 3,
     "metadata": {},
     "output_type": "execute_result"
    }
   ],
   "source": [
    "datestring = '201502'\n",
    "!curl -O \"https://s3.amazonaws.com/tripdata/{datestring}-citibike-tripdata.zip\"\n",
    "\n",
    "#https://discuss.analyticsvidhya.com/t/how-to-read-zip-file-directly-in-python/1659\n",
    "zf = zipfile.ZipFile(datestring+'-citibike-tripdata.zip')\n",
    "df = pd.read_csv(zf.open(datestring+'-citibike-tripdata.csv'))\n",
    "\n",
    "df.head()"
   ]
  },
  {
   "cell_type": "code",
   "execution_count": 4,
   "metadata": {
    "collapsed": false
   },
   "outputs": [
    {
     "data": {
      "text/html": [
       "<div>\n",
       "<table border=\"1\" class=\"dataframe\">\n",
       "  <thead>\n",
       "    <tr style=\"text-align: right;\">\n",
       "      <th></th>\n",
       "      <th>starttime</th>\n",
       "      <th>gender</th>\n",
       "    </tr>\n",
       "  </thead>\n",
       "  <tbody>\n",
       "    <tr>\n",
       "      <th>0</th>\n",
       "      <td>2/1/2015 0:00</td>\n",
       "      <td>2</td>\n",
       "    </tr>\n",
       "    <tr>\n",
       "      <th>1</th>\n",
       "      <td>2/1/2015 0:00</td>\n",
       "      <td>1</td>\n",
       "    </tr>\n",
       "    <tr>\n",
       "      <th>2</th>\n",
       "      <td>2/1/2015 0:01</td>\n",
       "      <td>2</td>\n",
       "    </tr>\n",
       "    <tr>\n",
       "      <th>3</th>\n",
       "      <td>2/1/2015 0:01</td>\n",
       "      <td>2</td>\n",
       "    </tr>\n",
       "    <tr>\n",
       "      <th>4</th>\n",
       "      <td>2/1/2015 0:01</td>\n",
       "      <td>1</td>\n",
       "    </tr>\n",
       "  </tbody>\n",
       "</table>\n",
       "</div>"
      ],
      "text/plain": [
       "       starttime  gender\n",
       "0  2/1/2015 0:00       2\n",
       "1  2/1/2015 0:00       1\n",
       "2  2/1/2015 0:01       2\n",
       "3  2/1/2015 0:01       2\n",
       "4  2/1/2015 0:01       1"
      ]
     },
     "execution_count": 4,
     "metadata": {},
     "output_type": "execute_result"
    }
   ],
   "source": [
    "df.drop(df.columns[(range(0,1) + range(2,14))], axis= 1, inplace = True)\n",
    "df.head()"
   ]
  },
  {
   "cell_type": "code",
   "execution_count": 5,
   "metadata": {
    "collapsed": true
   },
   "outputs": [],
   "source": [
    "#from Shay, from stackoverflow\n",
    "df['datetime'] = pd.to_datetime(df['starttime'])\n",
    "df['time'],df['date'] = df['datetime'].apply(lambda x:x.time()), df['datetime'].apply(lambda x:x.date())"
   ]
  },
  {
   "cell_type": "code",
   "execution_count": 6,
   "metadata": {
    "collapsed": false,
    "scrolled": true
   },
   "outputs": [
    {
     "data": {
      "text/html": [
       "<div>\n",
       "<table border=\"1\" class=\"dataframe\">\n",
       "  <thead>\n",
       "    <tr style=\"text-align: right;\">\n",
       "      <th></th>\n",
       "      <th>starttime</th>\n",
       "      <th>gender</th>\n",
       "      <th>datetime</th>\n",
       "      <th>time</th>\n",
       "      <th>date</th>\n",
       "    </tr>\n",
       "  </thead>\n",
       "  <tbody>\n",
       "    <tr>\n",
       "      <th>0</th>\n",
       "      <td>2/1/2015 0:00</td>\n",
       "      <td>2</td>\n",
       "      <td>2015-02-01 00:00:00</td>\n",
       "      <td>00:00:00</td>\n",
       "      <td>2015-02-01</td>\n",
       "    </tr>\n",
       "    <tr>\n",
       "      <th>1</th>\n",
       "      <td>2/1/2015 0:00</td>\n",
       "      <td>1</td>\n",
       "      <td>2015-02-01 00:00:00</td>\n",
       "      <td>00:00:00</td>\n",
       "      <td>2015-02-01</td>\n",
       "    </tr>\n",
       "    <tr>\n",
       "      <th>2</th>\n",
       "      <td>2/1/2015 0:01</td>\n",
       "      <td>2</td>\n",
       "      <td>2015-02-01 00:01:00</td>\n",
       "      <td>00:01:00</td>\n",
       "      <td>2015-02-01</td>\n",
       "    </tr>\n",
       "    <tr>\n",
       "      <th>3</th>\n",
       "      <td>2/1/2015 0:01</td>\n",
       "      <td>2</td>\n",
       "      <td>2015-02-01 00:01:00</td>\n",
       "      <td>00:01:00</td>\n",
       "      <td>2015-02-01</td>\n",
       "    </tr>\n",
       "    <tr>\n",
       "      <th>4</th>\n",
       "      <td>2/1/2015 0:01</td>\n",
       "      <td>1</td>\n",
       "      <td>2015-02-01 00:01:00</td>\n",
       "      <td>00:01:00</td>\n",
       "      <td>2015-02-01</td>\n",
       "    </tr>\n",
       "  </tbody>\n",
       "</table>\n",
       "</div>"
      ],
      "text/plain": [
       "       starttime  gender            datetime      time        date\n",
       "0  2/1/2015 0:00       2 2015-02-01 00:00:00  00:00:00  2015-02-01\n",
       "1  2/1/2015 0:00       1 2015-02-01 00:00:00  00:00:00  2015-02-01\n",
       "2  2/1/2015 0:01       2 2015-02-01 00:01:00  00:01:00  2015-02-01\n",
       "3  2/1/2015 0:01       2 2015-02-01 00:01:00  00:01:00  2015-02-01\n",
       "4  2/1/2015 0:01       1 2015-02-01 00:01:00  00:01:00  2015-02-01"
      ]
     },
     "execution_count": 6,
     "metadata": {},
     "output_type": "execute_result"
    }
   ],
   "source": [
    "df.head()"
   ]
  },
  {
   "cell_type": "code",
   "execution_count": 7,
   "metadata": {
    "collapsed": false
   },
   "outputs": [
    {
     "data": {
      "text/plain": [
       "0"
      ]
     },
     "execution_count": 7,
     "metadata": {},
     "output_type": "execute_result"
    }
   ],
   "source": [
    "int(df['starttime'][0][9])"
   ]
  },
  {
   "cell_type": "code",
   "execution_count": 8,
   "metadata": {
    "collapsed": false
   },
   "outputs": [],
   "source": [
    "df['starthour'] = df['starttime'].apply(lambda(x): (x[-5:-3])) #Jon Toy, from DS-GA1002"
   ]
  },
  {
   "cell_type": "code",
   "execution_count": 9,
   "metadata": {
    "collapsed": false
   },
   "outputs": [
    {
     "data": {
      "text/html": [
       "<div>\n",
       "<table border=\"1\" class=\"dataframe\">\n",
       "  <thead>\n",
       "    <tr style=\"text-align: right;\">\n",
       "      <th></th>\n",
       "      <th>starttime</th>\n",
       "      <th>gender</th>\n",
       "      <th>datetime</th>\n",
       "      <th>time</th>\n",
       "      <th>date</th>\n",
       "      <th>starthour</th>\n",
       "    </tr>\n",
       "  </thead>\n",
       "  <tbody>\n",
       "    <tr>\n",
       "      <th>196925</th>\n",
       "      <td>2/28/2015 23:57</td>\n",
       "      <td>1</td>\n",
       "      <td>2015-02-28 23:57:00</td>\n",
       "      <td>23:57:00</td>\n",
       "      <td>2015-02-28</td>\n",
       "      <td>23</td>\n",
       "    </tr>\n",
       "    <tr>\n",
       "      <th>196926</th>\n",
       "      <td>2/28/2015 23:58</td>\n",
       "      <td>1</td>\n",
       "      <td>2015-02-28 23:58:00</td>\n",
       "      <td>23:58:00</td>\n",
       "      <td>2015-02-28</td>\n",
       "      <td>23</td>\n",
       "    </tr>\n",
       "    <tr>\n",
       "      <th>196927</th>\n",
       "      <td>2/28/2015 23:59</td>\n",
       "      <td>1</td>\n",
       "      <td>2015-02-28 23:59:00</td>\n",
       "      <td>23:59:00</td>\n",
       "      <td>2015-02-28</td>\n",
       "      <td>23</td>\n",
       "    </tr>\n",
       "    <tr>\n",
       "      <th>196928</th>\n",
       "      <td>2/28/2015 23:59</td>\n",
       "      <td>2</td>\n",
       "      <td>2015-02-28 23:59:00</td>\n",
       "      <td>23:59:00</td>\n",
       "      <td>2015-02-28</td>\n",
       "      <td>23</td>\n",
       "    </tr>\n",
       "    <tr>\n",
       "      <th>196929</th>\n",
       "      <td>2/28/2015 23:59</td>\n",
       "      <td>2</td>\n",
       "      <td>2015-02-28 23:59:00</td>\n",
       "      <td>23:59:00</td>\n",
       "      <td>2015-02-28</td>\n",
       "      <td>23</td>\n",
       "    </tr>\n",
       "  </tbody>\n",
       "</table>\n",
       "</div>"
      ],
      "text/plain": [
       "              starttime  gender            datetime      time        date  \\\n",
       "196925  2/28/2015 23:57       1 2015-02-28 23:57:00  23:57:00  2015-02-28   \n",
       "196926  2/28/2015 23:58       1 2015-02-28 23:58:00  23:58:00  2015-02-28   \n",
       "196927  2/28/2015 23:59       1 2015-02-28 23:59:00  23:59:00  2015-02-28   \n",
       "196928  2/28/2015 23:59       2 2015-02-28 23:59:00  23:59:00  2015-02-28   \n",
       "196929  2/28/2015 23:59       2 2015-02-28 23:59:00  23:59:00  2015-02-28   \n",
       "\n",
       "       starthour  \n",
       "196925        23  \n",
       "196926        23  \n",
       "196927        23  \n",
       "196928        23  \n",
       "196929        23  "
      ]
     },
     "execution_count": 9,
     "metadata": {},
     "output_type": "execute_result"
    }
   ],
   "source": [
    "df.tail()"
   ]
  },
  {
   "cell_type": "code",
   "execution_count": 10,
   "metadata": {
    "collapsed": false,
    "scrolled": true
   },
   "outputs": [
    {
     "data": {
      "text/html": [
       "<div>\n",
       "<table border=\"1\" class=\"dataframe\">\n",
       "  <thead>\n",
       "    <tr style=\"text-align: right;\">\n",
       "      <th></th>\n",
       "      <th>starttime</th>\n",
       "      <th>gender</th>\n",
       "      <th>datetime</th>\n",
       "      <th>time</th>\n",
       "      <th>date</th>\n",
       "      <th>starthour</th>\n",
       "      <th>starthourint</th>\n",
       "    </tr>\n",
       "  </thead>\n",
       "  <tbody>\n",
       "    <tr>\n",
       "      <th>0</th>\n",
       "      <td>2/1/2015 0:00</td>\n",
       "      <td>2</td>\n",
       "      <td>2015-02-01 00:00:00</td>\n",
       "      <td>00:00:00</td>\n",
       "      <td>2015-02-01</td>\n",
       "      <td>0</td>\n",
       "      <td>0</td>\n",
       "    </tr>\n",
       "    <tr>\n",
       "      <th>1</th>\n",
       "      <td>2/1/2015 0:00</td>\n",
       "      <td>1</td>\n",
       "      <td>2015-02-01 00:00:00</td>\n",
       "      <td>00:00:00</td>\n",
       "      <td>2015-02-01</td>\n",
       "      <td>0</td>\n",
       "      <td>0</td>\n",
       "    </tr>\n",
       "    <tr>\n",
       "      <th>2</th>\n",
       "      <td>2/1/2015 0:01</td>\n",
       "      <td>2</td>\n",
       "      <td>2015-02-01 00:01:00</td>\n",
       "      <td>00:01:00</td>\n",
       "      <td>2015-02-01</td>\n",
       "      <td>0</td>\n",
       "      <td>0</td>\n",
       "    </tr>\n",
       "    <tr>\n",
       "      <th>3</th>\n",
       "      <td>2/1/2015 0:01</td>\n",
       "      <td>2</td>\n",
       "      <td>2015-02-01 00:01:00</td>\n",
       "      <td>00:01:00</td>\n",
       "      <td>2015-02-01</td>\n",
       "      <td>0</td>\n",
       "      <td>0</td>\n",
       "    </tr>\n",
       "    <tr>\n",
       "      <th>4</th>\n",
       "      <td>2/1/2015 0:01</td>\n",
       "      <td>1</td>\n",
       "      <td>2015-02-01 00:01:00</td>\n",
       "      <td>00:01:00</td>\n",
       "      <td>2015-02-01</td>\n",
       "      <td>0</td>\n",
       "      <td>0</td>\n",
       "    </tr>\n",
       "  </tbody>\n",
       "</table>\n",
       "</div>"
      ],
      "text/plain": [
       "       starttime  gender            datetime      time        date starthour  \\\n",
       "0  2/1/2015 0:00       2 2015-02-01 00:00:00  00:00:00  2015-02-01         0   \n",
       "1  2/1/2015 0:00       1 2015-02-01 00:00:00  00:00:00  2015-02-01         0   \n",
       "2  2/1/2015 0:01       2 2015-02-01 00:01:00  00:01:00  2015-02-01         0   \n",
       "3  2/1/2015 0:01       2 2015-02-01 00:01:00  00:01:00  2015-02-01         0   \n",
       "4  2/1/2015 0:01       1 2015-02-01 00:01:00  00:01:00  2015-02-01         0   \n",
       "\n",
       "   starthourint  \n",
       "0             0  \n",
       "1             0  \n",
       "2             0  \n",
       "3             0  \n",
       "4             0  "
      ]
     },
     "execution_count": 10,
     "metadata": {},
     "output_type": "execute_result"
    }
   ],
   "source": [
    "df['starthourint'] = df['starthour'].apply(lambda(x): pd.to_numeric(x))\n",
    "df.head()"
   ]
  },
  {
   "cell_type": "code",
   "execution_count": 11,
   "metadata": {
    "collapsed": false
   },
   "outputs": [
    {
     "data": {
      "text/html": [
       "<div>\n",
       "<table border=\"1\" class=\"dataframe\">\n",
       "  <thead>\n",
       "    <tr style=\"text-align: right;\">\n",
       "      <th></th>\n",
       "      <th>starttime</th>\n",
       "      <th>gender</th>\n",
       "      <th>datetime</th>\n",
       "      <th>time</th>\n",
       "      <th>date</th>\n",
       "      <th>starthour</th>\n",
       "      <th>starthourint</th>\n",
       "    </tr>\n",
       "  </thead>\n",
       "  <tbody>\n",
       "    <tr>\n",
       "      <th>196925</th>\n",
       "      <td>2/28/2015 23:57</td>\n",
       "      <td>1</td>\n",
       "      <td>2015-02-28 23:57:00</td>\n",
       "      <td>23:57:00</td>\n",
       "      <td>2015-02-28</td>\n",
       "      <td>23</td>\n",
       "      <td>23</td>\n",
       "    </tr>\n",
       "    <tr>\n",
       "      <th>196926</th>\n",
       "      <td>2/28/2015 23:58</td>\n",
       "      <td>1</td>\n",
       "      <td>2015-02-28 23:58:00</td>\n",
       "      <td>23:58:00</td>\n",
       "      <td>2015-02-28</td>\n",
       "      <td>23</td>\n",
       "      <td>23</td>\n",
       "    </tr>\n",
       "    <tr>\n",
       "      <th>196927</th>\n",
       "      <td>2/28/2015 23:59</td>\n",
       "      <td>1</td>\n",
       "      <td>2015-02-28 23:59:00</td>\n",
       "      <td>23:59:00</td>\n",
       "      <td>2015-02-28</td>\n",
       "      <td>23</td>\n",
       "      <td>23</td>\n",
       "    </tr>\n",
       "    <tr>\n",
       "      <th>196928</th>\n",
       "      <td>2/28/2015 23:59</td>\n",
       "      <td>2</td>\n",
       "      <td>2015-02-28 23:59:00</td>\n",
       "      <td>23:59:00</td>\n",
       "      <td>2015-02-28</td>\n",
       "      <td>23</td>\n",
       "      <td>23</td>\n",
       "    </tr>\n",
       "    <tr>\n",
       "      <th>196929</th>\n",
       "      <td>2/28/2015 23:59</td>\n",
       "      <td>2</td>\n",
       "      <td>2015-02-28 23:59:00</td>\n",
       "      <td>23:59:00</td>\n",
       "      <td>2015-02-28</td>\n",
       "      <td>23</td>\n",
       "      <td>23</td>\n",
       "    </tr>\n",
       "  </tbody>\n",
       "</table>\n",
       "</div>"
      ],
      "text/plain": [
       "              starttime  gender            datetime      time        date  \\\n",
       "196925  2/28/2015 23:57       1 2015-02-28 23:57:00  23:57:00  2015-02-28   \n",
       "196926  2/28/2015 23:58       1 2015-02-28 23:58:00  23:58:00  2015-02-28   \n",
       "196927  2/28/2015 23:59       1 2015-02-28 23:59:00  23:59:00  2015-02-28   \n",
       "196928  2/28/2015 23:59       2 2015-02-28 23:59:00  23:59:00  2015-02-28   \n",
       "196929  2/28/2015 23:59       2 2015-02-28 23:59:00  23:59:00  2015-02-28   \n",
       "\n",
       "       starthour  starthourint  \n",
       "196925        23            23  \n",
       "196926        23            23  \n",
       "196927        23            23  \n",
       "196928        23            23  \n",
       "196929        23            23  "
      ]
     },
     "execution_count": 11,
     "metadata": {},
     "output_type": "execute_result"
    }
   ],
   "source": [
    "df.tail()"
   ]
  },
  {
   "cell_type": "code",
   "execution_count": 12,
   "metadata": {
    "collapsed": false
   },
   "outputs": [],
   "source": [
    "df['morning'] = (10 >= df['starthourint']) & (7 <= df['starthourint'])"
   ]
  },
  {
   "cell_type": "code",
   "execution_count": 13,
   "metadata": {
    "collapsed": false
   },
   "outputs": [],
   "source": [
    "df['evening'] = (16 <= df['starthourint']) & (19 >= df['starthourint'])"
   ]
  },
  {
   "cell_type": "code",
   "execution_count": 14,
   "metadata": {
    "collapsed": false
   },
   "outputs": [
    {
     "data": {
      "text/html": [
       "<div>\n",
       "<table border=\"1\" class=\"dataframe\">\n",
       "  <thead>\n",
       "    <tr style=\"text-align: right;\">\n",
       "      <th></th>\n",
       "      <th>starttime</th>\n",
       "      <th>gender</th>\n",
       "      <th>datetime</th>\n",
       "      <th>time</th>\n",
       "      <th>date</th>\n",
       "      <th>starthour</th>\n",
       "      <th>starthourint</th>\n",
       "      <th>morning</th>\n",
       "      <th>evening</th>\n",
       "    </tr>\n",
       "  </thead>\n",
       "  <tbody>\n",
       "    <tr>\n",
       "      <th>0</th>\n",
       "      <td>2/1/2015 0:00</td>\n",
       "      <td>2</td>\n",
       "      <td>2015-02-01 00:00:00</td>\n",
       "      <td>00:00:00</td>\n",
       "      <td>2015-02-01</td>\n",
       "      <td>0</td>\n",
       "      <td>0</td>\n",
       "      <td>False</td>\n",
       "      <td>False</td>\n",
       "    </tr>\n",
       "    <tr>\n",
       "      <th>1</th>\n",
       "      <td>2/1/2015 0:00</td>\n",
       "      <td>1</td>\n",
       "      <td>2015-02-01 00:00:00</td>\n",
       "      <td>00:00:00</td>\n",
       "      <td>2015-02-01</td>\n",
       "      <td>0</td>\n",
       "      <td>0</td>\n",
       "      <td>False</td>\n",
       "      <td>False</td>\n",
       "    </tr>\n",
       "    <tr>\n",
       "      <th>2</th>\n",
       "      <td>2/1/2015 0:01</td>\n",
       "      <td>2</td>\n",
       "      <td>2015-02-01 00:01:00</td>\n",
       "      <td>00:01:00</td>\n",
       "      <td>2015-02-01</td>\n",
       "      <td>0</td>\n",
       "      <td>0</td>\n",
       "      <td>False</td>\n",
       "      <td>False</td>\n",
       "    </tr>\n",
       "    <tr>\n",
       "      <th>3</th>\n",
       "      <td>2/1/2015 0:01</td>\n",
       "      <td>2</td>\n",
       "      <td>2015-02-01 00:01:00</td>\n",
       "      <td>00:01:00</td>\n",
       "      <td>2015-02-01</td>\n",
       "      <td>0</td>\n",
       "      <td>0</td>\n",
       "      <td>False</td>\n",
       "      <td>False</td>\n",
       "    </tr>\n",
       "    <tr>\n",
       "      <th>4</th>\n",
       "      <td>2/1/2015 0:01</td>\n",
       "      <td>1</td>\n",
       "      <td>2015-02-01 00:01:00</td>\n",
       "      <td>00:01:00</td>\n",
       "      <td>2015-02-01</td>\n",
       "      <td>0</td>\n",
       "      <td>0</td>\n",
       "      <td>False</td>\n",
       "      <td>False</td>\n",
       "    </tr>\n",
       "  </tbody>\n",
       "</table>\n",
       "</div>"
      ],
      "text/plain": [
       "       starttime  gender            datetime      time        date starthour  \\\n",
       "0  2/1/2015 0:00       2 2015-02-01 00:00:00  00:00:00  2015-02-01         0   \n",
       "1  2/1/2015 0:00       1 2015-02-01 00:00:00  00:00:00  2015-02-01         0   \n",
       "2  2/1/2015 0:01       2 2015-02-01 00:01:00  00:01:00  2015-02-01         0   \n",
       "3  2/1/2015 0:01       2 2015-02-01 00:01:00  00:01:00  2015-02-01         0   \n",
       "4  2/1/2015 0:01       1 2015-02-01 00:01:00  00:01:00  2015-02-01         0   \n",
       "\n",
       "   starthourint morning evening  \n",
       "0             0   False   False  \n",
       "1             0   False   False  \n",
       "2             0   False   False  \n",
       "3             0   False   False  \n",
       "4             0   False   False  "
      ]
     },
     "execution_count": 14,
     "metadata": {},
     "output_type": "execute_result"
    }
   ],
   "source": [
    "df.head()"
   ]
  },
  {
   "cell_type": "code",
   "execution_count": 22,
   "metadata": {
    "collapsed": false
   },
   "outputs": [
    {
     "data": {
      "text/plain": [
       "<matplotlib.legend.Legend at 0x7f8c71710f10>"
      ]
     },
     "execution_count": 22,
     "metadata": {},
     "output_type": "execute_result"
    },
    {
     "data": {
      "image/png": "[encoded data removed]",
      "text/plain": [
       "<matplotlib.figure.Figure at 0x7f8c741def90>"
      ]
     },
     "metadata": {},
     "output_type": "display_data"
    }
   ],
   "source": [
    "(df['starthourint'][df['gender'] == 1]).hist(bins=(7, 8, 9, 10), label = \"Morning, Male\")\n",
    "(df['starthourint'][df['gender'] == 2]).hist(bins= (7, 8, 9, 10), label = \"Morning, Female\")\n",
    "(df['starthourint'][df['gender'] == 1]).hist(bins=(16, 17, 18, 19), label = \"Evening, Male\")\n",
    "(df['starthourint'][df['gender'] == 2]).hist(bins= (16, 17, 18, 19), label = \"Evening Female\")\n",
    "#histogram code from Christian Rosado\n",
    "pl.title('Male and Female Ridership in the Morning and Evening', fontsize=18)\n",
    "pl.xlabel('Ride Start Hour', fontsize = 18)\n",
    "pl.ylabel('N', fontsize = 18)\n",
    "pl.legend(fontsize = 10, loc='upper left')"
   ]
  },
  {
   "cell_type": "code",
   "execution_count": 23,
   "metadata": {
    "collapsed": false
   },
   "outputs": [
    {
     "data": {
      "text/plain": [
       "<matplotlib.legend.Legend at 0x7f8c742317d0>"
      ]
     },
     "execution_count": 23,
     "metadata": {},
     "output_type": "execute_result"
    },
    {
     "data": {
      "image/png": "[encoded data removed]",
      "text/plain": [
       "<matplotlib.figure.Figure at 0x7f8c1f4d6590>"
      ]
     },
     "metadata": {},
     "output_type": "display_data"
    }
   ],
   "source": [
    "(df['starthourint'][df['gender'] == 1]).hist(bins=(6, 7, 8, 9, 10, 11, 12, 13, 14, 15, 16, 17, 18, 19, 20), label = \"Male\")\n",
    "(df['starthourint'][df['gender'] == 2]).hist(bins=(6, 7, 8, 9, 10, 11, 12, 13, 14, 15, 16, 17, 18, 19, 20), label = \"Female\")\n",
    "pl.title('Male and Female Ridership by Ride Start Time', fontsize=18)\n",
    "pl.xlabel('Ride Start Hour', fontsize = 18)\n",
    "pl.ylabel('N', fontsize = 18)\n",
    "pl.legend(fontsize = 10, loc='upper left')"
   ]
  }
 ],
 "metadata": {
  "kernelspec": {
   "display_name": "PUI2016_Python2",
   "language": "python",
   "name": "pui2016_python2"
  },
  "language_info": {
   "codemirror_mode": {
    "name": "ipython",
    "version": 2
   },
   "file_extension": ".py",
   "mimetype": "text/x-python",
   "name": "python",
   "nbconvert_exporter": "python",
   "pygments_lexer": "ipython2",
   "version": "2.7.12"
  }
 },
 "nbformat": 4,
 "nbformat_minor": 0
}
